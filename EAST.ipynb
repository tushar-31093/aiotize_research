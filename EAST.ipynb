{
  "nbformat": 4,
  "nbformat_minor": 0,
  "metadata": {
    "colab": {
      "name": "EAST.ipynb",
      "provenance": [],
      "private_outputs": true,
      "collapsed_sections": [],
      "include_colab_link": true
    },
    "kernelspec": {
      "name": "python3",
      "display_name": "Python 3"
    },
    "accelerator": "GPU"
  },
  "cells": [
    {
      "cell_type": "markdown",
      "metadata": {
        "id": "view-in-github",
        "colab_type": "text"
      },
      "source": [
        "<a href=\"https://colab.research.google.com/github/tushar-31093/aiotize_research/blob/master/EAST.ipynb\" target=\"_parent\"><img src=\"https://colab.research.google.com/assets/colab-badge.svg\" alt=\"Open In Colab\"/></a>"
      ]
    },
    {
      "cell_type": "markdown",
      "metadata": {
        "id": "siz-LJTtgCgo",
        "colab_type": "text"
      },
      "source": [
        "# Scene Text Detection with EAST\n",
        "\n",
        "This notebook uses an open source implementation of the paper [EAST: An Efficient and Accurate Scene Text Detector](https://arxiv.org/abs/1704.03155) to detect scene text on a given image."
      ]
    },
    {
      "cell_type": "code",
      "metadata": {
        "id": "2Q12L81w4lf9",
        "colab_type": "code",
        "colab": {}
      },
      "source": [
        "import os\n",
        "from os.path import exists, join, basename, splitext\n",
        "\n",
        "git_repo_url = 'https://github.com/argman/EAST.git'\n",
        "project_name = splitext(basename(git_repo_url))[0]\n",
        "if not exists(project_name):\n",
        "  # clone and install\n",
        "  !git clone -q $git_repo_url\n",
        "  #!cd $project_name && pip install -q -r requirements.txt\n",
        "  \n",
        "import sys\n",
        "sys.path.append(project_name)\n",
        "import time\n",
        "import matplotlib\n",
        "import matplotlib.pylab as plt\n",
        "plt.rcParams[\"axes.grid\"] = False"
      ],
      "execution_count": 0,
      "outputs": []
    },
    {
      "cell_type": "markdown",
      "metadata": {
        "id": "6uoWKo0chuSF",
        "colab_type": "text"
      },
      "source": [
        "## Download pretrained model"
      ]
    },
    {
      "cell_type": "code",
      "metadata": {
        "id": "kw3pfUZGLlFf",
        "colab_type": "code",
        "colab": {}
      },
      "source": [
        "def download_from_google_drive(file_id, file_name):\n",
        "  # download a file from the Google Drive link\n",
        "  !rm -f ./cookie\n",
        "  !curl -c ./cookie -s -L \"https://drive.google.com/uc?export=download&id=$file_id\" > /dev/null\n",
        "  confirm_text = !awk '/download/ {print $NF}' ./cookie\n",
        "  confirm_text = confirm_text[0]\n",
        "  !curl -Lb ./cookie \"https://drive.google.com/uc?export=download&confirm=$confirm_text&id=$file_id\" -o $file_name\n",
        "  \n",
        "\n",
        "pretrained_model = 'east_icdar2015_resnet_v1_50_rbox'\n",
        "if not exists(pretrained_model):\n",
        "  # download the pretrained model\n",
        "  pretrained_model_file_name = 'east_icdar2015_resnet_v1_50_rbox.zip'\n",
        "  download_from_google_drive('0B3APw5BZJ67ETHNPaU9xUkVoV0U', pretrained_model_file_name)\n",
        "  !unzip $pretrained_model_file_name"
      ],
      "execution_count": 0,
      "outputs": []
    },
    {
      "cell_type": "markdown",
      "metadata": {
        "id": "WIMXCMruzGpD",
        "colab_type": "text"
      },
      "source": [
        "## Detect scene text on a test image\n",
        "\n",
        "First, dowload a test image from internet:"
      ]
    },
    {
      "cell_type": "code",
      "metadata": {
        "id": "I9LUFjL3LxOg",
        "colab_type": "code",
        "colab": {}
      },
      "source": [
        "# IMAGE_URL = 'https://raw.githubusercontent.com/tugstugi/dl-colab-notebooks/master/resources/billboard.jpg'\n",
        "\n",
        "IMAGE_URL = 'https://www.plasloc.com/wp-content/uploads/2018/09/Hoarding-installation-east-village-london.jpg'\n",
        "\n",
        "image_file_name = basename(IMAGE_URL)\n",
        "download_dir = '/content/images'\n",
        "!mkdir -p $download_dir && rm -rf $download_dir/*\n",
        "!wget -q -P $download_dir $IMAGE_URL\n",
        "  \n",
        "\n",
        "plt.imshow(matplotlib.image.imread(join(download_dir, image_file_name)))"
      ],
      "execution_count": 0,
      "outputs": []
    },
    {
      "cell_type": "markdown",
      "metadata": {
        "id": "ERsYDK0C0PHP",
        "colab_type": "text"
      },
      "source": [
        "Run EAST on the above test image:"
      ]
    },
    {
      "cell_type": "code",
      "metadata": {
        "id": "bECsDzbK55HV",
        "colab_type": "code",
        "colab": {}
      },
      "source": [
        "!mkdir -p output\n",
        "!cd $project_name && python eval.py --test_data_path=$download_dir --gpu_list=0 --checkpoint_path=../$pretrained_model/ --output_dir=.."
      ],
      "execution_count": 0,
      "outputs": []
    },
    {
      "cell_type": "markdown",
      "metadata": {
        "id": "e2xZDiE40SzP",
        "colab_type": "text"
      },
      "source": [
        "Now, visualize the result:"
      ]
    },
    {
      "cell_type": "code",
      "metadata": {
        "id": "u_TSNAz-6UAK",
        "colab_type": "code",
        "colab": {}
      },
      "source": [
        "plt.figure(figsize=(20, 26))\n",
        "plt.imshow(matplotlib.image.imread(image_file_name))"
      ],
      "execution_count": 0,
      "outputs": []
    }
  ]
}
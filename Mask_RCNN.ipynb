{
  "nbformat": 4,
  "nbformat_minor": 0,
  "metadata": {
    "colab": {
      "name": "Mask_RCNN.ipynb",
      "provenance": [],
      "private_outputs": true,
      "collapsed_sections": [],
      "include_colab_link": true
    },
    "kernelspec": {
      "name": "python3",
      "display_name": "Python 3"
    },
    "accelerator": "GPU"
  },
  "cells": [
    {
      "cell_type": "markdown",
      "metadata": {
        "id": "view-in-github",
        "colab_type": "text"
      },
      "source": [
        "<a href=\"https://colab.research.google.com/github/tushar-31093/aiotize_research/blob/master/Mask_RCNN.ipynb\" target=\"_parent\"><img src=\"https://colab.research.google.com/assets/colab-badge.svg\" alt=\"Open In Colab\"/></a>"
      ]
    },
    {
      "cell_type": "code",
      "metadata": {
        "id": "7CdVvpA0bDvI",
        "colab_type": "code",
        "colab": {}
      },
      "source": [
        "!git clone https://github.com/matterport/Mask_RCNN.git"
      ],
      "execution_count": 0,
      "outputs": []
    },
    {
      "cell_type": "code",
      "metadata": {
        "id": "1GUdvgw6o_E2",
        "colab_type": "code",
        "colab": {}
      },
      "source": [
        "ls"
      ],
      "execution_count": 0,
      "outputs": []
    },
    {
      "cell_type": "code",
      "metadata": {
        "id": "_1COJtiZCY1K",
        "colab_type": "code",
        "colab": {}
      },
      "source": [
        "cd Mask_RCNN/"
      ],
      "execution_count": 0,
      "outputs": []
    },
    {
      "cell_type": "code",
      "metadata": {
        "id": "FUfiZR1ICa_u",
        "colab_type": "code",
        "colab": {}
      },
      "source": [
        "ls"
      ],
      "execution_count": 0,
      "outputs": []
    },
    {
      "cell_type": "code",
      "metadata": {
        "id": "17y0dnPtCcAJ",
        "colab_type": "code",
        "colab": {}
      },
      "source": [
        "!pip install -r requirements.txt"
      ],
      "execution_count": 0,
      "outputs": []
    },
    {
      "cell_type": "code",
      "metadata": {
        "id": "SgxJqYZ2q4iy",
        "colab_type": "code",
        "colab": {}
      },
      "source": [
        "cd samples"
      ],
      "execution_count": 0,
      "outputs": []
    },
    {
      "cell_type": "code",
      "metadata": {
        "id": "7FT8IwUVrFt6",
        "colab_type": "code",
        "colab": {}
      },
      "source": [
        "ls"
      ],
      "execution_count": 0,
      "outputs": []
    },
    {
      "cell_type": "code",
      "metadata": {
        "id": "Ho2RjQBdCgJD",
        "colab_type": "code",
        "colab": {}
      },
      "source": [
        "import os\n",
        "\n",
        "import sys\n",
        "\n",
        "import random\n",
        "\n",
        "import math\n",
        "\n",
        "import numpy as np\n",
        "\n",
        "import skimage.io\n",
        "\n",
        "import matplotlib\n",
        "\n",
        "import matplotlib.pyplot as plt\n",
        "\n",
        "\n",
        "\n",
        "# Root directory of the project\n",
        "\n",
        "ROOT_DIR = os.path.abspath(\"../\")\n",
        "\n",
        "\n",
        "\n",
        "import warnings\n",
        "\n",
        "warnings.filterwarnings(\"ignore\")\n",
        "\n",
        "\n",
        "\n",
        "# Import Mask RCNN\n",
        "\n",
        "sys.path.append(ROOT_DIR)  # To find local version of the library\n",
        "\n",
        "from mrcnn import utils\n",
        "\n",
        "import mrcnn.model as modellib\n",
        "\n",
        "from mrcnn import visualize\n",
        "\n",
        "# Import COCO config\n",
        "\n",
        "sys.path.append(os.path.join(ROOT_DIR, \"samples/coco/\"))  # To find local version\n",
        "\n",
        "import coco\n",
        "\n"
      ],
      "execution_count": 0,
      "outputs": []
    },
    {
      "cell_type": "code",
      "metadata": {
        "id": "dvnZE71TJ_aM",
        "colab_type": "code",
        "colab": {}
      },
      "source": [
        "# Directory to save logs and trained model\n",
        "\n",
        "MODEL_DIR = os.path.join(ROOT_DIR, \"logs\")\n",
        "\n",
        "\n",
        "\n",
        "# Local path to trained weights file\n",
        "\n",
        "COCO_MODEL_PATH = os.path.join('', \"mask_rcnn_coco.h5\")\n",
        "\n",
        "\n",
        "\n",
        "# Download COCO trained weights from Releases if needed\n",
        "\n",
        "if not os.path.exists(COCO_MODEL_PATH):\n",
        "\n",
        "    utils.download_trained_weights(COCO_MODEL_PATH)\n",
        "\n",
        "\n",
        "\n",
        "# Directory of images to run detection on\n",
        "\n",
        "IMAGE_DIR = os.path.join(ROOT_DIR, \"images\")"
      ],
      "execution_count": 0,
      "outputs": []
    },
    {
      "cell_type": "code",
      "metadata": {
        "id": "lrlzcVL-KNFU",
        "colab_type": "code",
        "colab": {}
      },
      "source": [
        "class InferenceConfig(coco.CocoConfig):\n",
        "\n",
        "    # Set batch size to 1 since we'll be running inference on\n",
        "\n",
        "    # one image at a time. Batch size = GPU_COUNT * IMAGES_PER_GPU\n",
        "\n",
        "    GPU_COUNT = 1\n",
        "\n",
        "    IMAGES_PER_GPU = 1\n",
        "\n",
        "\n",
        "\n",
        "config = InferenceConfig()\n",
        "\n",
        "config.display()"
      ],
      "execution_count": 0,
      "outputs": []
    },
    {
      "cell_type": "code",
      "metadata": {
        "id": "u6bNCGy2rUND",
        "colab_type": "code",
        "colab": {}
      },
      "source": [
        "cd coco"
      ],
      "execution_count": 0,
      "outputs": []
    },
    {
      "cell_type": "code",
      "metadata": {
        "id": "50stVUKIrZKN",
        "colab_type": "code",
        "colab": {}
      },
      "source": [
        "cd ../"
      ],
      "execution_count": 0,
      "outputs": []
    },
    {
      "cell_type": "code",
      "metadata": {
        "id": "YrJWbaORrnKU",
        "colab_type": "code",
        "colab": {}
      },
      "source": [
        "cd ../"
      ],
      "execution_count": 0,
      "outputs": []
    },
    {
      "cell_type": "code",
      "metadata": {
        "id": "FCNpuJ2rt87M",
        "colab_type": "code",
        "colab": {}
      },
      "source": [
        "cd samples"
      ],
      "execution_count": 0,
      "outputs": []
    },
    {
      "cell_type": "code",
      "metadata": {
        "id": "szMDdQ7CKsp5",
        "colab_type": "code",
        "colab": {}
      },
      "source": [
        "# Create model object in inference mode.\n",
        "\n",
        "model = modellib.MaskRCNN(mode=\"inference\", model_dir='mask_rcnn_coco.hy', config=config)\n",
        "\n",
        "\n",
        "\n",
        "# Load weights trained on MS-COCO\n",
        "\n",
        "model.load_weights('mask_rcnn_coco.h5', by_name=True)"
      ],
      "execution_count": 0,
      "outputs": []
    },
    {
      "cell_type": "code",
      "metadata": {
        "id": "Kz5DIfp6K0nx",
        "colab_type": "code",
        "colab": {}
      },
      "source": [
        "# COCO Class names\n",
        "\n",
        "class_names = ['BG', 'person', 'bicycle', 'car', 'motorcycle', 'airplane',\n",
        "\n",
        "               'bus', 'train', 'truck', 'boat', 'traffic light',\n",
        "\n",
        "               'fire hydrant', 'stop sign', 'parking meter', 'bench', 'bird',\n",
        "\n",
        "               'cat', 'dog', 'horse', 'sheep', 'cow', 'elephant', 'bear',\n",
        "\n",
        "               'zebra', 'giraffe', 'backpack', 'umbrella', 'handbag', 'tie',\n",
        "\n",
        "               'suitcase', 'frisbee', 'skis', 'snowboard', 'sports ball',\n",
        "\n",
        "               'kite', 'baseball bat', 'baseball glove', 'skateboard',\n",
        "\n",
        "               'surfboard', 'tennis racket', 'bottle', 'wine glass', 'cup',\n",
        "\n",
        "               'fork', 'knife', 'spoon', 'bowl', 'banana', 'apple',\n",
        "\n",
        "               'sandwich', 'orange', 'broccoli', 'carrot', 'hot dog', 'pizza',\n",
        "\n",
        "               'donut', 'cake', 'chair', 'couch', 'potted plant', 'bed',\n",
        "\n",
        "               'dining table', 'toilet', 'tv', 'laptop', 'mouse', 'remote',\n",
        "\n",
        "               'keyboard', 'cell phone', 'microwave', 'oven', 'toaster',\n",
        "\n",
        "               'sink', 'refrigerator', 'book', 'clock', 'vase', 'scissors',\n",
        "\n",
        "               'teddy bear', 'hair drier', 'toothbrush']"
      ],
      "execution_count": 0,
      "outputs": []
    },
    {
      "cell_type": "code",
      "metadata": {
        "id": "2YDur8xtLD79",
        "colab_type": "code",
        "colab": {}
      },
      "source": [
        "ls"
      ],
      "execution_count": 0,
      "outputs": []
    },
    {
      "cell_type": "code",
      "metadata": {
        "id": "0vxxQmgsK48b",
        "colab_type": "code",
        "colab": {}
      },
      "source": [
        "# Load a random image from the images folder\n",
        "\n",
        "image = skimage.io.imread('/content/Mask_RCNN/images/1045023827_4ec3e8ba5c_z.jpg')\n",
        "\n",
        "\n",
        "\n",
        "# original image\n",
        "\n",
        "plt.figure(figsize=(12,10))\n",
        "\n",
        "skimage.io.imshow(image)"
      ],
      "execution_count": 0,
      "outputs": []
    },
    {
      "cell_type": "code",
      "metadata": {
        "id": "J0wS5T2WK7vY",
        "colab_type": "code",
        "colab": {}
      },
      "source": [
        "# Run detection\n",
        "\n",
        "results = model.detect([image], verbose=1)\n",
        "\n",
        "\n",
        "\n",
        "# Visualize results\n",
        "\n",
        "r = results[0]\n",
        "\n",
        "visualize.display_instances(image, r['rois'], r['masks'], r['class_ids'], class_names, r['scores'])"
      ],
      "execution_count": 0,
      "outputs": []
    },
    {
      "cell_type": "code",
      "metadata": {
        "id": "u8GTB9mpLO4I",
        "colab_type": "code",
        "colab": {}
      },
      "source": [
        "mask = r['masks']\n",
        "\n",
        "mask = mask.astype(int)\n",
        "\n",
        "mask.shape"
      ],
      "execution_count": 0,
      "outputs": []
    },
    {
      "cell_type": "code",
      "metadata": {
        "id": "LO-xwOdNLrC_",
        "colab_type": "code",
        "colab": {}
      },
      "source": [
        "print(mask.shape[2])"
      ],
      "execution_count": 0,
      "outputs": []
    },
    {
      "cell_type": "code",
      "metadata": {
        "id": "h_VH8o5uLS2q",
        "colab_type": "code",
        "colab": {}
      },
      "source": [
        "for i in range(mask.shape[2]):\n",
        "\n",
        "    temp = skimage.io.imread('/content/Mask_RCNN/images/1045023827_4ec3e8ba5c_z.jpg')\n",
        "\n",
        "    for j in range(temp.shape[2]):\n",
        "\n",
        "        temp[:,:,j] = temp[:,:,j] * mask[:,:,i]\n",
        "\n",
        "    plt.figure(figsize=(8,8))\n",
        "\n",
        "    plt.imshow(temp)"
      ],
      "execution_count": 0,
      "outputs": []
    },
    {
      "cell_type": "code",
      "metadata": {
        "id": "Qdz1se0sLX7B",
        "colab_type": "code",
        "colab": {}
      },
      "source": [
        ""
      ],
      "execution_count": 0,
      "outputs": []
    }
  ]
}